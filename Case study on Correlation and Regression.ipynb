{
 "cells": [
  {
   "cell_type": "code",
   "execution_count": 4,
   "id": "6045ee26",
   "metadata": {},
   "outputs": [],
   "source": [
    "import numpy as np\n",
    "import pandas as pd\n",
    "import matplotlib.pyplot as plt\n",
    "import seaborn as sns"
   ]
  },
  {
   "cell_type": "code",
   "execution_count": 5,
   "id": "45c212b2",
   "metadata": {},
   "outputs": [],
   "source": [
    "#Case Study on correlation and Regression,where we need to make a regression model to check the profit of different advertising.\n",
    "#So read the csv file into it"
   ]
  },
  {
   "cell_type": "code",
   "execution_count": 6,
   "id": "93230595",
   "metadata": {},
   "outputs": [],
   "source": [
    "data = pd.read_csv(r'Downloads\\Add_sales_data_2018.csv')"
   ]
  },
  {
   "cell_type": "code",
   "execution_count": 7,
   "id": "feaec61a",
   "metadata": {},
   "outputs": [
    {
     "data": {
      "text/html": [
       "<div>\n",
       "<style scoped>\n",
       "    .dataframe tbody tr th:only-of-type {\n",
       "        vertical-align: middle;\n",
       "    }\n",
       "\n",
       "    .dataframe tbody tr th {\n",
       "        vertical-align: top;\n",
       "    }\n",
       "\n",
       "    .dataframe thead th {\n",
       "        text-align: right;\n",
       "    }\n",
       "</style>\n",
       "<table border=\"1\" class=\"dataframe\">\n",
       "  <thead>\n",
       "    <tr style=\"text-align: right;\">\n",
       "      <th></th>\n",
       "      <th>Date</th>\n",
       "      <th>Add1(in Thousands)</th>\n",
       "      <th>Add2(in Thousands)</th>\n",
       "      <th>Add3(in Thousands)</th>\n",
       "      <th>Add4(in Thousands)</th>\n",
       "      <th>Add5(in Thousands)</th>\n",
       "      <th>Profit(in Thousands)</th>\n",
       "    </tr>\n",
       "  </thead>\n",
       "  <tbody>\n",
       "    <tr>\n",
       "      <th>0</th>\n",
       "      <td>2018-10-08</td>\n",
       "      <td>208.00</td>\n",
       "      <td>222.25</td>\n",
       "      <td>206.85</td>\n",
       "      <td>216.00</td>\n",
       "      <td>215.15</td>\n",
       "      <td>4093.065</td>\n",
       "    </tr>\n",
       "    <tr>\n",
       "      <th>1</th>\n",
       "      <td>2018-10-05</td>\n",
       "      <td>217.00</td>\n",
       "      <td>218.60</td>\n",
       "      <td>205.90</td>\n",
       "      <td>210.25</td>\n",
       "      <td>209.20</td>\n",
       "      <td>4042.448</td>\n",
       "    </tr>\n",
       "    <tr>\n",
       "      <th>2</th>\n",
       "      <td>2018-10-04</td>\n",
       "      <td>223.50</td>\n",
       "      <td>227.80</td>\n",
       "      <td>216.15</td>\n",
       "      <td>217.25</td>\n",
       "      <td>218.20</td>\n",
       "      <td>4213.819</td>\n",
       "    </tr>\n",
       "    <tr>\n",
       "      <th>3</th>\n",
       "      <td>2018-10-03</td>\n",
       "      <td>230.00</td>\n",
       "      <td>237.50</td>\n",
       "      <td>225.75</td>\n",
       "      <td>226.45</td>\n",
       "      <td>227.60</td>\n",
       "      <td>4391.665</td>\n",
       "    </tr>\n",
       "    <tr>\n",
       "      <th>4</th>\n",
       "      <td>2018-10-01</td>\n",
       "      <td>234.55</td>\n",
       "      <td>234.60</td>\n",
       "      <td>221.05</td>\n",
       "      <td>230.30</td>\n",
       "      <td>230.90</td>\n",
       "      <td>4350.683</td>\n",
       "    </tr>\n",
       "  </tbody>\n",
       "</table>\n",
       "</div>"
      ],
      "text/plain": [
       "         Date  Add1(in Thousands)  Add2(in Thousands)  Add3(in Thousands)  \\\n",
       "0  2018-10-08              208.00              222.25              206.85   \n",
       "1  2018-10-05              217.00              218.60              205.90   \n",
       "2  2018-10-04              223.50              227.80              216.15   \n",
       "3  2018-10-03              230.00              237.50              225.75   \n",
       "4  2018-10-01              234.55              234.60              221.05   \n",
       "\n",
       "   Add4(in Thousands)  Add5(in Thousands)  Profit(in Thousands)  \n",
       "0              216.00              215.15              4093.065  \n",
       "1              210.25              209.20              4042.448  \n",
       "2              217.25              218.20              4213.819  \n",
       "3              226.45              227.60              4391.665  \n",
       "4              230.30              230.90              4350.683  "
      ]
     },
     "execution_count": 7,
     "metadata": {},
     "output_type": "execute_result"
    }
   ],
   "source": [
    "data.head()"
   ]
  },
  {
   "cell_type": "code",
   "execution_count": 8,
   "id": "c3964043",
   "metadata": {},
   "outputs": [
    {
     "data": {
      "text/plain": [
       "(205, 7)"
      ]
     },
     "execution_count": 8,
     "metadata": {},
     "output_type": "execute_result"
    }
   ],
   "source": [
    "data.shape"
   ]
  },
  {
   "cell_type": "code",
   "execution_count": 9,
   "id": "9522e38f",
   "metadata": {},
   "outputs": [
    {
     "data": {
      "text/plain": [
       "Date                    0\n",
       "Add1(in Thousands)      0\n",
       "Add2(in Thousands)      0\n",
       "Add3(in Thousands)      0\n",
       "Add4(in Thousands)      0\n",
       "Add5(in Thousands)      0\n",
       "Profit(in Thousands)    0\n",
       "dtype: int64"
      ]
     },
     "execution_count": 9,
     "metadata": {},
     "output_type": "execute_result"
    }
   ],
   "source": [
    "#Check for null value\n",
    "data.isna().sum()"
   ]
  },
  {
   "cell_type": "code",
   "execution_count": 10,
   "id": "383984c3",
   "metadata": {},
   "outputs": [
    {
     "data": {
      "text/plain": [
       "array([4093.065, 4042.448, 4213.819, 4391.665, 4350.683, 4404.686,\n",
       "       4418.709, 4470.775, 4425.005, 4446.441, 4411.775, 4435.571,\n",
       "       4464.11 , 4434.805, 4379.901, 4152.066, 4175.677, 4326.782,\n",
       "       4190.965, 4193.095, 4178.008, 4390.996, 4523.704, 4465.95 ,\n",
       "       4435.174, 4436.321, 4451.999, 4453.773, 4416.136, 4482.183,\n",
       "       4598.292, 4617.695, 4566.31 , 4513.6  , 4461.325, 4419.421,\n",
       "       4435.816, 4480.363, 4486.38 , 4506.279, 4486.996, 4453.205,\n",
       "       4432.864, 4672.391, 4648.627, 4606.34 , 4558.651, 4519.061,\n",
       "       4599.49 , 4643.716, 4548.11 , 4477.226, 4494.144, 4605.783,\n",
       "       4671.113, 4760.877, 4947.72 , 5071.736, 5133.766, 5190.814,\n",
       "       5145.131, 5088.455, 5234.487, 5250.775, 5239.06 , 5075.858,\n",
       "       5038.222, 5001.615, 5004.282, 5030.451, 4977.891, 4916.064,\n",
       "       4890.723, 4936.12 , 5113.337, 5163.693, 5225.14 , 5187.445,\n",
       "       5057.155, 5013.207, 5043.705, 5027.633, 5034.726, 4980.446,\n",
       "       4925.861, 4923.127, 5015.536, 5058.14 , 4937.03 , 4898.776,\n",
       "       4887.296, 4836.837, 4763.69 , 4705.198, 4676.653, 4623.793,\n",
       "       4647.356, 4648.834, 4569.293, 4772.52 , 5131.898, 5421.94 ,\n",
       "       5453.24 , 5498.553, 5518.561, 5511.42 , 5430.79 , 5452.28 ,\n",
       "       5580.775, 5577.15 , 5511.087, 5491.792, 5425.19 , 5373.275,\n",
       "       5378.379, 5397.739, 5395.217, 5359.346, 5318.1  , 5227.886,\n",
       "       5182.368, 5184.204, 5167.878, 5238.366, 5244.097, 5153.977,\n",
       "       5172.76 , 5188.139, 5185.639, 5140.372, 4922.845, 4968.03 ,\n",
       "       4907.56 , 4821.542, 4934.682, 4979.399, 4915.682, 5051.755,\n",
       "       5247.011, 5300.437, 5250.15 , 5245.324, 5163.322, 5134.657,\n",
       "       5111.806, 5108.626, 5250.788, 5175.051, 5190.758, 5177.61 ,\n",
       "       5216.436, 5146.949, 5065.652, 5019.997, 5017.503, 5078.636,\n",
       "       5137.534, 5263.935, 5312.74 , 5384.175, 5387.438, 5212.949,\n",
       "       5328.025, 5267.657, 4997.719, 5107.437, 5245.14 , 5465.277,\n",
       "       5616.791, 5730.999, 5728.804, 5792.175, 5789.791, 5805.521,\n",
       "       5866.196, 5784.54 , 5858.34 , 5910.98 , 6062.457, 6137.8  ,\n",
       "       6101.648, 5921.116, 5956.323, 5972.337, 5962.336, 5903.253,\n",
       "       5861.83 , 5890.012, 5880.541, 5938.474, 5917.925, 5780.799,\n",
       "       5767.839, 5745.806, 5717.838, 5667.25 , 5676.934, 5616.186,\n",
       "       5435.316, 5425.371, 5374.105, 5439.655, 5545.013, 5565.444,\n",
       "       5421.842])"
      ]
     },
     "execution_count": 10,
     "metadata": {},
     "output_type": "execute_result"
    }
   ],
   "source": [
    "data['Profit(in Thousands)'].unique()"
   ]
  },
  {
   "cell_type": "code",
   "execution_count": 11,
   "id": "f8ed741e",
   "metadata": {},
   "outputs": [
    {
     "data": {
      "image/png": "[encoded data removed]",
      "text/plain": [
       "<Figure size 1440x1296 with 6 Axes>"
      ]
     },
     "metadata": {
      "needs_background": "light"
     },
     "output_type": "display_data"
    }
   ],
   "source": [
    "#Frequency distribution of each column\n",
    "freqgraph = data.select_dtypes(include=['int32','int64','float'])\n",
    "freqgraph.hist(figsize=(20,18))\n",
    "plt.show()"
   ]
  },
  {
   "cell_type": "code",
   "execution_count": 12,
   "id": "6763641a",
   "metadata": {},
   "outputs": [
    {
     "data": {
      "text/plain": [
       "Index(['Date', 'Add1(in Thousands)', 'Add2(in Thousands)',\n",
       "       'Add3(in Thousands)', 'Add4(in Thousands)', 'Add5(in Thousands)',\n",
       "       'Profit(in Thousands)'],\n",
       "      dtype='object')"
      ]
     },
     "execution_count": 12,
     "metadata": {},
     "output_type": "execute_result"
    }
   ],
   "source": [
    "data.columns"
   ]
  },
  {
   "cell_type": "code",
   "execution_count": 13,
   "id": "99660cb1",
   "metadata": {},
   "outputs": [
    {
     "data": {
      "text/plain": [
       "Date                     object\n",
       "Add1(in Thousands)      float64\n",
       "Add2(in Thousands)      float64\n",
       "Add3(in Thousands)      float64\n",
       "Add4(in Thousands)      float64\n",
       "Add5(in Thousands)      float64\n",
       "Profit(in Thousands)    float64\n",
       "dtype: object"
      ]
     },
     "execution_count": 13,
     "metadata": {},
     "output_type": "execute_result"
    }
   ],
   "source": [
    "data.dtypes"
   ]
  },
  {
   "cell_type": "code",
   "execution_count": 14,
   "id": "fc16343a",
   "metadata": {},
   "outputs": [],
   "source": [
    "#A textile shop spent money for advertising in 5 different.\n",
    "#The given data shows the amount spent for advertising through each advertising company.Below it shows the relationship between each\n",
    "#Each data of advertising in relation with profit"
   ]
  },
  {
   "cell_type": "code",
   "execution_count": 15,
   "id": "e0d3f881",
   "metadata": {},
   "outputs": [
    {
     "data": {
      "text/plain": [
       "Text(0, 0.5, 'Profit(in Thousands)')"
      ]
     },
     "execution_count": 15,
     "metadata": {},
     "output_type": "execute_result"
    },
    {
     "data": {
      "image/png": "[encoded data removed]",
      "text/plain": [
       "<Figure size 432x288 with 1 Axes>"
      ]
     },
     "metadata": {
      "needs_background": "light"
     },
     "output_type": "display_data"
    }
   ],
   "source": [
    "plt.figure(figsize=(6,4))\n",
    "plt.scatter(data['Add1(in Thousands)'],data['Profit(in Thousands)'])\n",
    "plt.title('Add1(in Thousands) vs Profit(in Thousands)')\n",
    "plt.xlabel('Add1(in Thousands)')\n",
    "plt.ylabel('Profit(in Thousands)')"
   ]
  },
  {
   "cell_type": "code",
   "execution_count": 16,
   "id": "bfb484bd",
   "metadata": {},
   "outputs": [
    {
     "data": {
      "text/plain": [
       "Text(0, 0.5, 'Profit(in Thousands)')"
      ]
     },
     "execution_count": 16,
     "metadata": {},
     "output_type": "execute_result"
    },
    {
     "data": {
      "image/png": "[encoded data removed]",
      "text/plain": [
       "<Figure size 432x288 with 1 Axes>"
      ]
     },
     "metadata": {
      "needs_background": "light"
     },
     "output_type": "display_data"
    }
   ],
   "source": [
    "plt.figure(figsize=(6,4))\n",
    "plt.scatter(data['Add2(in Thousands)'],data['Profit(in Thousands)'])\n",
    "plt.title('Add2(in Thousands) vs Profit(in Thousands)')\n",
    "plt.xlabel('Add2(in Thousands)')\n",
    "plt.ylabel('Profit(in Thousands)')"
   ]
  },
  {
   "cell_type": "code",
   "execution_count": 17,
   "id": "cea24a49",
   "metadata": {},
   "outputs": [
    {
     "data": {
      "text/plain": [
       "Text(0, 0.5, 'Profit(in Thousands)')"
      ]
     },
     "execution_count": 17,
     "metadata": {},
     "output_type": "execute_result"
    },
    {
     "data": {
      "image/png": "[encoded data removed]",
      "text/plain": [
       "<Figure size 432x288 with 1 Axes>"
      ]
     },
     "metadata": {
      "needs_background": "light"
     },
     "output_type": "display_data"
    }
   ],
   "source": [
    "plt.figure(figsize=(6,4))\n",
    "plt.scatter(data['Add3(in Thousands)'],data['Profit(in Thousands)'])\n",
    "plt.title('Add3(in Thousands) vs Profit(in Thousands)')\n",
    "plt.xlabel('Add3(in Thousands)')\n",
    "plt.ylabel('Profit(in Thousands)')"
   ]
  },
  {
   "cell_type": "code",
   "execution_count": 18,
   "id": "d8cac295",
   "metadata": {},
   "outputs": [
    {
     "data": {
      "text/plain": [
       "Text(0, 0.5, 'Profit(in Thousands)')"
      ]
     },
     "execution_count": 18,
     "metadata": {},
     "output_type": "execute_result"
    },
    {
     "data": {
      "image/png": "[encoded data removed]",
      "text/plain": [
       "<Figure size 432x288 with 1 Axes>"
      ]
     },
     "metadata": {
      "needs_background": "light"
     },
     "output_type": "display_data"
    }
   ],
   "source": [
    "plt.figure(figsize=(6,4))\n",
    "plt.scatter(data['Add4(in Thousands)'],data['Profit(in Thousands)'])\n",
    "plt.title('Add4(in Thousands) vs Profit(in Thousands)')\n",
    "plt.xlabel('Add4(in Thousands)')\n",
    "plt.ylabel('Profit(in Thousands)')"
   ]
  },
  {
   "cell_type": "code",
   "execution_count": 19,
   "id": "8caa4ebe",
   "metadata": {},
   "outputs": [
    {
     "data": {
      "text/plain": [
       "Text(0, 0.5, 'Profit(in Thousands)')"
      ]
     },
     "execution_count": 19,
     "metadata": {},
     "output_type": "execute_result"
    },
    {
     "data": {
      "image/png": "[encoded data removed]",
      "text/plain": [
       "<Figure size 432x288 with 1 Axes>"
      ]
     },
     "metadata": {
      "needs_background": "light"
     },
     "output_type": "display_data"
    }
   ],
   "source": [
    "plt.figure(figsize=(6,4))\n",
    "plt.scatter(data['Add5(in Thousands)'],data['Profit(in Thousands)'])\n",
    "plt.title('Add5(in Thousands) vs Profit(in Thousands)')\n",
    "plt.xlabel('Add5(in Thousands)')\n",
    "plt.ylabel('Profit(in Thousands)')"
   ]
  },
  {
   "cell_type": "code",
   "execution_count": 20,
   "id": "c6ed0d2e",
   "metadata": {},
   "outputs": [],
   "source": [
    "##Build a regression model to predict the profit from the given data and comment your findings\n"
   ]
  },
  {
   "cell_type": "code",
   "execution_count": 21,
   "id": "5c1fad30",
   "metadata": {},
   "outputs": [
    {
     "data": {
      "text/plain": [
       "<AxesSubplot:>"
      ]
     },
     "execution_count": 21,
     "metadata": {},
     "output_type": "execute_result"
    },
    {
     "data": {
      "image/png": "[encoded data removed]",
      "text/plain": [
       "<Figure size 1080x576 with 2 Axes>"
      ]
     },
     "metadata": {
      "needs_background": "light"
     },
     "output_type": "display_data"
    }
   ],
   "source": [
    "#So here we need to find the correlation matrics of each columsn with respect to profit\n",
    "corrmatrix = data.corr()\n",
    "plt.subplots(figsize=(15,8))\n",
    "sns.heatmap(corrmatrix,vmin=0.98,vmax=1,annot=True,linewidth=0.8)"
   ]
  },
  {
   "cell_type": "code",
   "execution_count": 22,
   "id": "1895c756",
   "metadata": {},
   "outputs": [],
   "source": [
    "#Highly correlated data were identified.Here in case add2 (in thousand) and add5 (in thousand) is highly correlated so we need to specifically select one and drop one."
   ]
  },
  {
   "cell_type": "code",
   "execution_count": 23,
   "id": "3b0341d5",
   "metadata": {},
   "outputs": [],
   "source": [
    "data1 = data.drop(['Date','Add5(in Thousands)'],axis=1)"
   ]
  },
  {
   "cell_type": "code",
   "execution_count": 24,
   "id": "bcf9abd5",
   "metadata": {},
   "outputs": [
    {
     "data": {
      "text/plain": [
       "Add1(in Thousands)      float64\n",
       "Add2(in Thousands)      float64\n",
       "Add3(in Thousands)      float64\n",
       "Add4(in Thousands)      float64\n",
       "Profit(in Thousands)    float64\n",
       "dtype: object"
      ]
     },
     "execution_count": 24,
     "metadata": {},
     "output_type": "execute_result"
    }
   ],
   "source": [
    "data1.dtypes"
   ]
  },
  {
   "cell_type": "code",
   "execution_count": 25,
   "id": "f408c975",
   "metadata": {},
   "outputs": [],
   "source": [
    "#Split datasaet into dependant and independant varaible\n",
    "#depandant - quality and independenat other\n",
    "#X is the independent and y is dependant,that means feutures are in x and y contain target\n",
    "y=data1['Profit(in Thousands)']\n",
    "x=data1.drop(['Profit(in Thousands)'],axis=1)"
   ]
  },
  {
   "cell_type": "code",
   "execution_count": 26,
   "id": "7e0d395d",
   "metadata": {},
   "outputs": [
    {
     "data": {
      "text/plain": [
       "(205, 4)"
      ]
     },
     "execution_count": 26,
     "metadata": {},
     "output_type": "execute_result"
    }
   ],
   "source": [
    "x.shape"
   ]
  },
  {
   "cell_type": "code",
   "execution_count": 27,
   "id": "ff0ff84d",
   "metadata": {},
   "outputs": [
    {
     "data": {
      "text/plain": [
       "(205,)"
      ]
     },
     "execution_count": 27,
     "metadata": {},
     "output_type": "execute_result"
    }
   ],
   "source": [
    "y.shape"
   ]
  },
  {
   "cell_type": "code",
   "execution_count": 28,
   "id": "7c540731",
   "metadata": {},
   "outputs": [],
   "source": [
    "##Going to split data set into train and test set\n",
    "from sklearn.model_selection import train_test_split\n",
    "#Split x and y into xtrain and xtest and y train, y test\n",
    "x_train,x_test,y_train,y_test = train_test_split(x,y,random_state=42,test_size=0.25)"
   ]
  },
  {
   "cell_type": "code",
   "execution_count": 29,
   "id": "2970715e",
   "metadata": {},
   "outputs": [],
   "source": [
    "##Here small amount of data given for testing and more data for training,training data should be more than testing data always\n",
    "#Linear Regression\n",
    "from sklearn import linear_model\n",
    "lr=linear_model.LinearRegression()"
   ]
  },
  {
   "cell_type": "code",
   "execution_count": 30,
   "id": "c5d320dd",
   "metadata": {},
   "outputs": [],
   "source": [
    "#We are fitting the instance created to our training data and then we create linear regression model and store to another varaible\n",
    "#\n",
    "model=lr.fit(x_train,y_train)"
   ]
  },
  {
   "cell_type": "code",
   "execution_count": 31,
   "id": "e83d0dda",
   "metadata": {},
   "outputs": [],
   "source": [
    "#Model is ready and now we can predict output for test values\n",
    "prediction = model.predict(x_test)"
   ]
  },
  {
   "cell_type": "code",
   "execution_count": 32,
   "id": "21c75a34",
   "metadata": {},
   "outputs": [
    {
     "name": "stdout",
     "output_type": "stream",
     "text": [
      "15     4152.066\n",
      "9      4446.441\n",
      "100    5131.898\n",
      "132    4907.560\n",
      "68     5004.282\n",
      "95     4623.793\n",
      "159    5384.175\n",
      "162    5328.025\n",
      "147    5175.051\n",
      "182    5956.323\n",
      "191    5780.799\n",
      "164    4997.719\n",
      "65     5075.858\n",
      "175    5784.540\n",
      "73     4936.120\n",
      "152    5065.652\n",
      "18     4190.965\n",
      "82     5034.726\n",
      "86     5015.536\n",
      "143    5134.657\n",
      "60     5145.131\n",
      "101    5421.940\n",
      "98     4569.293\n",
      "30     4598.292\n",
      "25     4436.321\n",
      "16     4175.677\n",
      "168    5616.791\n",
      "195    5667.250\n",
      "97     4648.834\n",
      "194    5717.838\n",
      "67     5001.615\n",
      "120    5182.368\n",
      "154    5017.503\n",
      "202    5545.013\n",
      "79     5013.207\n",
      "69     5030.451\n",
      "145    5108.626\n",
      "55     4760.877\n",
      "45     4606.340\n",
      "84     4925.861\n",
      "146    5250.788\n",
      "66     5038.222\n",
      "111    5491.792\n",
      "153    5019.997\n",
      "96     4647.356\n",
      "38     4486.380\n",
      "24     4435.174\n",
      "139    5300.437\n",
      "112    5425.190\n",
      "29     4482.183\n",
      "19     4193.095\n",
      "178    6062.457\n",
      "Name: Profit(in Thousands), dtype: float64\n"
     ]
    }
   ],
   "source": [
    "print(y_test)"
   ]
  },
  {
   "cell_type": "code",
   "execution_count": 33,
   "id": "a4ae79bc",
   "metadata": {},
   "outputs": [
    {
     "name": "stdout",
     "output_type": "stream",
     "text": [
      "[4150.88763487 4447.12592965 5133.38031159 4908.26829527 5002.14153915\n",
      " 4624.18120031 5383.91839828 5328.00021054 5175.58914749 5956.55978675\n",
      " 5780.89267376 4996.82977447 5076.07968284 5785.53438512 4935.74329169\n",
      " 5065.84268445 4190.97345105 5034.52167751 5016.93984512 5134.84339471\n",
      " 5144.92669903 5421.54918213 4569.54364815 4598.61444531 4436.038698\n",
      " 4176.1770066  5617.3439695  5667.21781797 4648.70261308 5717.90555255\n",
      " 5002.57699893 5182.40483872 5017.28686642 5544.93173696 5012.72424152\n",
      " 5028.10954386 5108.59497872 4761.72838332 4607.60239375 4925.98150005\n",
      " 5249.67337825 5037.90852212 5491.69210158 5020.81890704 4647.66638615\n",
      " 4486.42826505 4436.03686862 5300.51553142 5425.05225364 4482.17658881\n",
      " 4192.91620815 6063.57269524]\n"
     ]
    }
   ],
   "source": [
    "print(prediction)"
   ]
  },
  {
   "cell_type": "code",
   "execution_count": 34,
   "id": "1e4357c8",
   "metadata": {},
   "outputs": [],
   "source": [
    "#A large data is there so we need to check the accuracy using another matrix,mean square \n",
    "from sklearn.metrics import mean_squared_error"
   ]
  },
  {
   "cell_type": "code",
   "execution_count": 35,
   "id": "3cbf95c5",
   "metadata": {},
   "outputs": [
    {
     "name": "stdout",
     "output_type": "stream",
     "text": [
      "MSE is 0.5381640443755512\n"
     ]
    }
   ],
   "source": [
    "print('MSE is',mean_squared_error(y_test,prediction))"
   ]
  },
  {
   "cell_type": "code",
   "execution_count": 36,
   "id": "dff60057",
   "metadata": {},
   "outputs": [],
   "source": [
    "#It shows very low mean squared error."
   ]
  },
  {
   "cell_type": "code",
   "execution_count": 37,
   "id": "ca446207",
   "metadata": {},
   "outputs": [
    {
     "data": {
      "text/plain": [
       "-0.1951707349599019"
      ]
     },
     "execution_count": 37,
     "metadata": {},
     "output_type": "execute_result"
    }
   ],
   "source": [
    "model.intercept_"
   ]
  },
  {
   "cell_type": "code",
   "execution_count": 38,
   "id": "b08c242c",
   "metadata": {},
   "outputs": [
    {
     "data": {
      "text/plain": [
       "array([ 0.97317652, 12.43994559,  3.54702319,  1.8201929 ])"
      ]
     },
     "execution_count": 38,
     "metadata": {},
     "output_type": "execute_result"
    }
   ],
   "source": [
    "model.coef_"
   ]
  },
  {
   "cell_type": "code",
   "execution_count": 39,
   "id": "3b99e098",
   "metadata": {},
   "outputs": [
    {
     "data": {
      "text/plain": [
       "0.999998727280807"
      ]
     },
     "execution_count": 39,
     "metadata": {},
     "output_type": "execute_result"
    }
   ],
   "source": [
    "1 - (1-model.score(x, y))*(len(y)-1)/(len(y)-x.shape[1]-1)"
   ]
  },
  {
   "cell_type": "code",
   "execution_count": 40,
   "id": "09564da8",
   "metadata": {},
   "outputs": [],
   "source": [
    "#predict the profit generated by the company,if they wish to spend following amount for advertisement"
   ]
  },
  {
   "cell_type": "code",
   "execution_count": 41,
   "id": "9eeae423",
   "metadata": {},
   "outputs": [],
   "source": [
    "table=[['Add1(in Thousands)',290],['Add2(in Thousands)',312],\n",
    "       ['Add3(in Thousands)',309],['Add4(in Thousands)',298],['Add5(in Thousands)',320]]"
   ]
  },
  {
   "cell_type": "code",
   "execution_count": 42,
   "id": "5f20076a",
   "metadata": {},
   "outputs": [],
   "source": [
    "table = {'Add1(in Thousands)':[290],'Add2(in Thousands)':[312],'Add3(in Thousands)':[309],'Add4(in Thousands)':[298],'Add5(in Thousands)':[320]}\n",
    "       "
   ]
  },
  {
   "cell_type": "code",
   "execution_count": 43,
   "id": "2ae2975e",
   "metadata": {},
   "outputs": [],
   "source": [
    "df=pd.DataFrame(table)"
   ]
  },
  {
   "cell_type": "code",
   "execution_count": 44,
   "id": "4aa9b9e6",
   "metadata": {},
   "outputs": [
    {
     "name": "stdout",
     "output_type": "stream",
     "text": [
      "   Add1(in Thousands)  Add2(in Thousands)  Add3(in Thousands)  \\\n",
      "0                 290                 312                 309   \n",
      "\n",
      "   Add4(in Thousands)  Add5(in Thousands)  \n",
      "0                 298                 320  \n"
     ]
    }
   ],
   "source": [
    "print(df)"
   ]
  },
  {
   "cell_type": "code",
   "execution_count": 64,
   "id": "22e22f35",
   "metadata": {},
   "outputs": [
    {
     "data": {
      "text/html": [
       "<style  type=\"text/css\" >\n",
       "    #T_55344_  {\n",
       "          border: 2px ;\n",
       "    }</style><table id=\"T_55344_\" ><thead>    <tr>        <th class=\"blank level0\" ></th>        <th class=\"col_heading level0 col0\" >Add1(in Thousands)</th>        <th class=\"col_heading level0 col1\" >Add2(in Thousands)</th>        <th class=\"col_heading level0 col2\" >Add3(in Thousands)</th>        <th class=\"col_heading level0 col3\" >Add4(in Thousands)</th>        <th class=\"col_heading level0 col4\" >Add5(in Thousands)</th>    </tr></thead><tbody>\n",
       "                <tr>\n",
       "                        <th id=\"T_55344_level0_row0\" class=\"row_heading level0 row0\" >0</th>\n",
       "                        <td id=\"T_55344_row0_col0\" class=\"data row0 col0\" >290</td>\n",
       "                        <td id=\"T_55344_row0_col1\" class=\"data row0 col1\" >312</td>\n",
       "                        <td id=\"T_55344_row0_col2\" class=\"data row0 col2\" >309</td>\n",
       "                        <td id=\"T_55344_row0_col3\" class=\"data row0 col3\" >298</td>\n",
       "                        <td id=\"T_55344_row0_col4\" class=\"data row0 col4\" >320</td>\n",
       "            </tr>\n",
       "    </tbody></table>"
      ],
      "text/plain": [
       "<pandas.io.formats.style.Styler at 0x155ed5d7d30>"
      ]
     },
     "execution_count": 64,
     "metadata": {},
     "output_type": "execute_result"
    }
   ],
   "source": [
    "df.style.set_table_styles([{'selector': '','props' : [('border', '2px ')]}])"
   ]
  },
  {
   "cell_type": "code",
   "execution_count": 71,
   "id": "c177fbb9",
   "metadata": {},
   "outputs": [],
   "source": [
    "new=[[290,312,309,298]]"
   ]
  },
  {
   "cell_type": "code",
   "execution_count": 72,
   "id": "7df6f0b9",
   "metadata": {},
   "outputs": [
    {
     "data": {
      "text/plain": [
       "[[290, 312, 309, 298]]"
      ]
     },
     "execution_count": 72,
     "metadata": {},
     "output_type": "execute_result"
    }
   ],
   "source": [
    "new"
   ]
  },
  {
   "cell_type": "code",
   "execution_count": 74,
   "id": "83fcf3c6",
   "metadata": {},
   "outputs": [
    {
     "data": {
      "text/plain": [
       "5801.736693174623"
      ]
     },
     "execution_count": 74,
     "metadata": {},
     "output_type": "execute_result"
    }
   ],
   "source": [
    "model.predict(new).item()"
   ]
  },
  {
   "cell_type": "code",
   "execution_count": null,
   "id": "9d829a77",
   "metadata": {},
   "outputs": [],
   "source": [
    "#the profit of the given table is 5801.7366\n"
   ]
  }
 ],
 "metadata": {
  "kernelspec": {
   "display_name": "Python 3",
   "language": "python",
   "name": "python3"
  },
  "language_info": {
   "codemirror_mode": {
    "name": "ipython",
    "version": 3
   },
   "file_extension": ".py",
   "mimetype": "text/x-python",
   "name": "python",
   "nbconvert_exporter": "python",
   "pygments_lexer": "ipython3",
   "version": "3.8.8"
  }
 },
 "nbformat": 4,
 "nbformat_minor": 5
}
